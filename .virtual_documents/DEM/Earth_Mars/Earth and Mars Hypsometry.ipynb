


earth_dem_fname='./ETOPO5_dem_geotiff/DEM_geotiff/alwdgg.tif'
import richdem as rd
earth_dem = rd.LoadGDAL(earth_dem_fname, no_data=-32678)


earth_dem_fname='./ETOPO5_dem_geotiff/DEM_geotiff/alwdgg.tif'
## Using rihdem
#import richdem as rd
#earth_dem = rd.LoadGDAL(earth_dem_fname, no_data=-32678)

import numpy as np
from matplotlib import pyplot as pl
#pl.rcParams['figure.figsize'] = [14, 7]

from osgeo import gdal
ds = gdal.Open(earth_dem_fname, gdal.GA_ReadOnly)
rb = ds.GetRasterBand(1)
earth_dem = rb.ReadAsArray()

pl.imshow(earth_dem, interpolation='none', cmap='gist_earth')
pl.colorbar()
pl.show()





pl.hist(earth_dem.ravel(), bins=100)
pl.xlabel('Elevation / Bathymetry (m)', fontsize=12)
pl.ylabel('Number of pixels', fontsize=12)





bins_250m = np.arange(-10000,10000, 250)
pl.hist(earth_dem.ravel(), bins=bins_250m)
pl.xlabel('Elevation / Bathymetry (m)', fontsize=12)
pl.ylabel('Number of pixels', fontsize=12)





mars_dem_fname='mola128_mola64_merge_90Nto90S_SimpleC_clon0_5000m_bilinear.tif'
#mars_dem = rd.LoadGDAL(mars_dem_fname, no_data=-32768)

ds = gdal.Open(mars_dem_fname, gdal.GA_ReadOnly)
rb = ds.GetRasterBand(1)
mars_dem = rb.ReadAsArray()
pl.imshow(mars_dem, interpolation='none', cmap='gist_earth')
pl.colorbar()
pl.show()






