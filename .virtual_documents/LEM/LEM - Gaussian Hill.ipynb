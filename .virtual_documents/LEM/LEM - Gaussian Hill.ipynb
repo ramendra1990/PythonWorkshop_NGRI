


from landlab import RasterModelGrid
import numpy as np
from matplotlib import pyplot as plt
from landlab.plot import imshow_grid
plt.rcParams['figure.figsize'] = [14, 7]


#%% Setting up Gaussian Hill elevation data
n=111
dem_width = 5 * 100
node_spacing = dem_width/n
def gaussian_hill_elevation(n, b = 2.5):
    x, y = np.meshgrid(np.linspace(-b,b,n),
                       np.linspace(-b,b,n))
    z = np.exp(-x*x-y*y)
    return (x, y, z)

x,y,z = gaussian_hill_elevation(n)
z = z * 100

mg = RasterModelGrid((n, n), node_spacing)
gh_org = mg.add_field('node', 'topographic__elevation', z, 
                      units='meters', copy=True, clobber=False)





mg.number_of_node_columns


mg.number_of_nodes


mg.number_of_links





fg1 = plt.figure(1)
imshow_grid(mg, 'topographic__elevation', plot_name='Gaissian Hill', 
            allow_colorbar=True)





fg2, ax = plt.subplots(1, 1)
crosssection_center = mg.node_vector_to_raster(gh_org, flip_vertically=True)[:,int(np.round(n/2))].copy()
crosssection_center_ycoords = mg.node_vector_to_raster(mg.node_y, flip_vertically=True)[:,int(np.round(n/2))].copy()
ax.plot(crosssection_center_ycoords, crosssection_center, 'k', linewidth=3, label='Org. Gaussian Hill')
ax.grid()
ax.set_xlabel('Distance along profile [m]', fontsize=12)
ax.set_ylabel('Height [m]', fontsize=12)
ax.set_title('Profile through center of Gaussian Hill at t=0', fontsize=16)


help(mg.node_vector_to_raster)





from landlab.components import LinearDiffuser
mg.set_closed_boundaries_at_grid_edges(True, True, True, True)
kappa_ld = 0.1 # m^2/y [L^2/T]
ld = LinearDiffuser(mg, linear_diffusivity=kappa_ld)
dt = 1000 # time step in y
ld.run_one_step(dt)

fg3 = plt.figure()
imshow_grid(mg, 'topographic__elevation', plot_name='Gaussian Hill after 1 and 10 time steps with dt=%d and kappa_ld=%f'%(dt, kappa_ld), 
            allow_colorbar=True)





gh_ld1 = mg.node_vector_to_raster(gh_org, flip_vertically=True)

crosssection_center_d1 = mg.node_vector_to_raster(gh_ld1, flip_vertically=True)[:,int(np.round(n/2))].copy()
crosssection_center_ycoords_d1 = mg.node_vector_to_raster(mg.node_y, flip_vertically=True)[:,int(np.round(n/2))].copy()





fg2, ax = plt.subplots(1, 1)
ax.plot(crosssection_center_ycoords, crosssection_center, 'k', linewidth=3, label='Org. Gaussian Hill')
ax.plot(crosssection_center_ycoords_d1, crosssection_center_d1, 'b', linewidth=1, label='n=1, dt=%d x k=%02.2f'%(dt, kappa_ld))
ax.grid() 
ax.set_xlabel('Distance along profile [m]', fontsize=12)
ax.set_ylabel('Height [m]', fontsize=12)
ax.set_title('Profile through center of Gaussian Hill at t=0', fontsize=16)





dt = 1000 # time step in yr
for i in range(10):
    ld.run_one_step(dt)
    print('%d'%(i))

fg5 = plt.figure()
imshow_grid(mg, 'topographic__elevation', plot_name='Gaussian Hill after ten time step with dt=%d and kappa_ld=%f'%(dt, kappa_ld), 
            allow_colorbar=True)





gh_ld2 = mg.node_vector_to_raster(gh_org, flip_vertically=True)

crosssection_center_d2 = mg.node_vector_to_raster(gh_ld2, flip_vertically=True)[:,int(np.round(n/2))].copy()
crosssection_center_ycoords_d2 = mg.node_vector_to_raster(mg.node_y, flip_vertically=True)[:,int(np.round(n/2))].copy()

fg2, ax = plt.subplots(1, 1)
ax.plot(crosssection_center_ycoords, crosssection_center, 'k', linewidth=3, label='Org. Gaussian Hill')
ax.plot(crosssection_center_ycoords_d1, crosssection_center_d1, 'b', linewidth=1, label='n=1, dt=%d x k=%02.2f'%(dt, kappa_ld))
ax.plot(crosssection_center_ycoords_d2, crosssection_center_d2, 'r', label='n=10, dt=%d x k=%02.2f'%(dt, kappa_ld))
ax.grid() 
ax.set_xlabel('Distance along profile [m]', fontsize=12)
ax.set_ylabel('Height [m]', fontsize=12)
ax.set_title('Evolution of a gaussian hillslope', fontsize=16)
ax.legend()








#Create initial plot of raw data
fg2, ax = plt.subplots(1, 1)
ax.plot(crosssection_center_ycoords, crosssection_center, 'k', linewidth=3, label='Org. Gaussian Hill')
ax.grid()
ax.set_xlabel('Distance along profile [m]', fontsize=12)
ax.set_ylabel('Height [m]', fontsize=12)
ax.set_title('Profiles at different timesteps through center of Gaussian Hill (Linear Diffusion)', fontsize=16)

#re-initiate model domain to start from scratch
x,y,z = gaussian_hill_elevation(n)
z = z*100

mg = RasterModelGrid((n, n), node_spacing)
gh_org = mg.add_field('node', 'topographic__elevation', z, units='meters', copy=True, clobber=False)
kappa_ld = 0.05 # m^2/y [L^2/T]
ld = LinearDiffuser(mg, linear_diffusivity=kappa_ld)
dt = 2000 # time step in y
time_steps = 20 
crosssection_center_dt = np.empty((time_steps, len(crosssection_center_d1)))
crosssection_center_ycoords_dt = np.empty((time_steps, len(crosssection_center_ycoords_d1)))
colors = plt.cm.viridis(np.linspace(0,1,time_steps))
for i in range(time_steps):
    ld.run_one_step(dt)
    gh_ld = mg.node_vector_to_raster(gh_org, flip_vertically=True)
    
    crosssection_center_dt[i,:] = mg.node_vector_to_raster(gh_ld, flip_vertically=True)[:,int(np.round(n/2))]
    crosssection_center_ycoords_dt[i,:] = mg.node_vector_to_raster(mg.node_y, flip_vertically=True)[:,int(np.round(n/2))]
    ax.plot(crosssection_center_ycoords_dt[i,:], 
                 crosssection_center_dt[i,:], 
                 color=colors[i], label='dt=%d'%(dt))    
    print('%d'%(i))





x,y,z = gaussian_hill_elevation(n)
z = z*100
z = z + z * np.random.rand(n,n) * 0.1

mg = RasterModelGrid((n, n), node_spacing)
gh_noise = mg.add_field('node', 'topographic__elevation', z, units='meters', copy=True, clobber=False)
kappa_ld = 0.05 # m^2/y [L^2/T]
ld = LinearDiffuser(mg, linear_diffusivity=kappa_ld)
dt = 1000 # time step in y
time_steps = 20 

fg6 = plt.figure()
imshow_grid(mg, 'topographic__elevation', plot_name='Gaussian Hill with noise after time step with dt=%d and kappa_ld=%f'%(dt, kappa_ld), 
            allow_colorbar=True)





ghn_ld1 = mg.node_vector_to_raster(gh_noise, flip_vertically=True)

crosssection_center_noise_1 = mg.node_vector_to_raster(ghn_ld1, flip_vertically=True)[:,int(np.round(n/2))]
crosssection_center_ycoords_noise_1 = mg.node_vector_to_raster(mg.node_y, flip_vertically=True)[:,int(np.round(n/2))]

fg2, ax = plt.subplots(1, 1)
ax.plot(crosssection_center_ycoords, crosssection_center, 'k', linewidth=3, label='Org. Gaussian Hill')
ax.grid()
ax.set_xlabel('Distance along profile [m]', fontsize=12)
ax.set_ylabel('Height [m]', fontsize=12)
ax.set_title('Profiles at different timesteps through center of Gaussian Hill with noise (Linear Diffusion)', fontsize=16)
ax.plot(crosssection_center_ycoords_noise_1, crosssection_center_noise_1, 'r', label='GH w/ noise')

crosssection_center_dt = np.empty((time_steps, len(crosssection_center_d1)))
crosssection_center_ycoords_dt = np.empty((time_steps, len(crosssection_center_ycoords_d1)))
colors = plt.cm.viridis(np.linspace(0,1,time_steps))
for i in range(time_steps):
    ld.run_one_step(dt)
    gh_ld = mg.node_vector_to_raster(ghn_ld1, flip_vertically=True)
    
    crosssection_center_dt[i,:] = mg.node_vector_to_raster(gh_ld, flip_vertically=True)[:,int(np.round(n/2))]
    crosssection_center_ycoords_dt[i,:] = mg.node_vector_to_raster(mg.node_y, flip_vertically=True)[:,int(np.round(n/2))]
    ax.plot(crosssection_center_ycoords_dt[i,:], crosssection_center_dt[i,:], color=colors[i], label='dt=%d'%(dt))    
    print('%d'%(i))





from landlab.components import FlowAccumulator, FastscapeEroder

x,y,z = gaussian_hill_elevation(n)
z = z*100

mg = RasterModelGrid((n, n), node_spacing)
gh_org = mg.add_field('node', 'topographic__elevation', z, units='meters', copy=True, clobber=False)

fr = FlowAccumulator(mg, flow_director='D8')
fse = FastscapeEroder(mg, K_sp = 1e-4, m_sp=0.5, n_sp=1.)
fr.run_one_step()
fse.run_one_step(dt=5000.)

fg7 = plt.figure()
imshow_grid(mg, 'topographic__elevation', plot_name='Gaussian Hill after one time step with K_sp=1e-5, m_sp=0.5, n_sp=1 (FastScape)', 
            allow_colorbar=True)

plt.figure()
plt.imshow(np.log10(np.reshape(fr.node_drainage_area, (n,n))))
cb=plt.colorbar()
cb.set_label('Log10 Flowaccumulation D8')

fg2, ax = plt.subplots(1, 1)
gh_fse = fse.grid.node_vector_to_raster(gh_org, flip_vertically=True)

crosssection_center_fse_1 = mg.node_vector_to_raster(gh_fse, flip_vertically=True)[:,int(np.round(n/2))]
crosssection_center_ycoords_fse_1 = mg.node_vector_to_raster(mg.node_y, flip_vertically=True)[:,int(np.round(n/2))]
ax.plot(crosssection_center_ycoords, crosssection_center, 'k', linewidth=3, label='Org. Gaussian Hill')
ax.grid()
ax.set_xlabel('Distance along profile [m]', fontsize=12)
ax.set_ylabel('Height [m]', fontsize=12)
ax.set_title('Profiles at different timesteps through center of Gaussian Hill (FastScape)', fontsize=16)
ax.plot(crosssection_center_ycoords_fse_1, crosssection_center_fse_1, 'r', label='noise')






x,y,z = gaussian_hill_elevation(n)
z = z*100

mg = RasterModelGrid((n, n), node_spacing)
gh_org = mg.add_field('node', 'topographic__elevation', z, units='meters', copy=True, clobber=False)

fr = FlowAccumulator(mg, flow_director='D8')
fse = FastscapeEroder(mg, K_sp = 1e-4, m_sp=0.5, n_sp=1.)

fg2, ax2 = plt.subplots(1, 1)
ax2.plot(crosssection_center_ycoords, crosssection_center, 'k', linewidth=3, label='Org. Gaussian Hill')
ax2.grid()
ax2.set_xlabel('Distance along profile [m]', fontsize=12)
ax2.set_ylabel('Height [m]', fontsize=12)
ax2.set_title('Profile through center of Gaussian Hill at t=0..n', fontsize=16)

dt=5000.
time_steps = 20
crosssection_center_dt = np.empty((time_steps, len(crosssection_center_d1)))
crosssection_center_ycoords_dt = np.empty((time_steps, len(crosssection_center_ycoords_d1)))
colors = plt.cm.magma(np.linspace(0,1,time_steps))
for i in range(time_steps):
    fr.run_one_step()
    fse.run_one_step(dt)
    gh_fse = mg.node_vector_to_raster(gh_org, flip_vertically=True)
    
    crosssection_center_dt[i,:] = mg.node_vector_to_raster(gh_fse, flip_vertically=True)[:,int(np.round(n/2))]
    crosssection_center_ycoords_dt[i,:] = mg.node_vector_to_raster(mg.node_y, flip_vertically=True)[:,int(np.round(n/2))]
    ax2.plot(crosssection_center_ycoords_dt[i,:], crosssection_center_dt[i,:], color=colors[i], label='i=%d'%(i))    
    print('%d'%(i))










fg7 = plt.figure()
imshow_grid(mg, 'topographic__elevation', plot_name='Gaussian Hill after one time step with K_sp=1e-5, m_sp=0.5, n_sp=1 (FastScape)', 
            allow_colorbar=True)

plt.figure()
plt.imshow(np.log10(np.reshape(fr.node_drainage_area, (n,n))))
cb=plt.colorbar()
cb.set_label('Log10 Flowaccumulation D8')




