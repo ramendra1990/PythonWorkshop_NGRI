{
 "cells": [
  {
   "cell_type": "markdown",
   "metadata": {},
   "source": [
    "# Calculating FlowDirection and Flowaccumulation on a Gaussian Hill\n",
    "**Note: latest version of <a href=\"https://richdem.readthedocs.io/en/latest/\">richDEM</a> will work on Windows OS as well as on Linux/Ubuntu or MacOS-X**\n",
    "\n",
    "First, define Gaussian Function and analytical (first and second order) derivatives. Define the slope function (see 'Gaussian Hill and DEM analysis.ipynb') for more details.\n",
    "For analytical details see Rheinwalt et al., 2019 (JGR-Earth Surface: https://agupubs.onlinelibrary.wiley.com/doi/abs/10.1029/2018JF004827) and Smith et al., 2019 (Earth Surface Dynamics: https://www.earth-surf-dynam.net/7/475/2019/).\n"
   ]
  },
  {
   "cell_type": "code",
   "execution_count": null,
   "metadata": {},
   "outputs": [],
   "source": [
    "import numpy as np\n",
    "import richdem as rd\n",
    "from matplotlib import pyplot as pl\n",
    "from matplotlib.colors import LogNorm\n",
    "pl.rcParams['figure.figsize'] = [14, 7]\n",
    "\n",
    "def gaussian_hill_elevation(n, b = 2.5):\n",
    "    x, y = np.meshgrid(np.linspace(-b,b,n),\n",
    "                       np.linspace(-b,b,n))\n",
    "    z = np.exp(-x*x-y*y)\n",
    "    return (x, y, z)\n",
    "\n",
    "def gaussian_hill_slope(n, b = 2.5):\n",
    "    x, y = np.meshgrid(np.linspace(-b,b,n),\n",
    "                       np.linspace(-b,b,n))\n",
    "    r = np.sqrt(x*x+y*y)\n",
    "    return 2*r*np.exp(-r*r)\n",
    "\n",
    "def gaussian_hill_curvature(n, b = 2.5):\n",
    "    x, y = np.meshgrid(np.linspace(-b,b,n),\n",
    "                       np.linspace(-b,b,n))\n",
    "    r = np.sqrt(x*x+y*y)\n",
    "    return (1 - 2*r*r)*2*np.exp(-r*r)\n",
    "\n",
    "def gaussian_hill_sca(n, b = 2.5):\n",
    "    x, y = np.meshgrid(np.linspace(-b,b,n),\n",
    "                       np.linspace(-b,b,n))\n",
    "    r = np.sqrt(x*x+y*y)\n",
    "    return r/2.0\n",
    "\n",
    "def np_slope(x, y, z):\n",
    "    d = y[1,0] - y[0,0]\n",
    "    dy, dx = np.gradient(z, d)\n",
    "    return np.sqrt(dx*dx+dy*dy)\n",
    "\n",
    "def np_curvature(x, y, z):\n",
    "    d = y[1,0] - y[0,0]\n",
    "    dy, dx = np.gradient(z, d)\n",
    "    dz = np.sqrt(dx*dx+dy*dy)\n",
    "    dy, dx = np.gradient(dz, d)\n",
    "    return np.sqrt(dx*dx+dy*dy)"
   ]
  },
  {
   "cell_type": "markdown",
   "metadata": {},
   "source": [
    "Next, calculate <a href=\"https://pro.arcgis.com/en/pro-app/latest/tool-reference/spatial-analyst/how-flow-accumulation-works.htm\">Flowdirection</a> using richDEM (rd.FlowAccumulation). Here, we use the Multiple-Flow-Direction (MFD) after Freeman, 1991)."
   ]
  },
  {
   "cell_type": "code",
   "execution_count": null,
   "metadata": {},
   "outputs": [],
   "source": [
    "# Gaussian hill\n",
    "n = 234\n",
    "x, y, z = gaussian_hill_elevation(n)\n",
    "d = y[1,0] - y[0,0]\n",
    "sca = rd.FlowAccumulation(rd.rdarray(z, no_data = -9999), method = 'Freeman', exponent = 1.1)\n",
    "sca *= d"
   ]
  },
  {
   "cell_type": "markdown",
   "metadata": {},
   "source": [
    "Then visualize the gaussian Hill and the flow accumulation (drainage area). Because "
   ]
  },
  {
   "cell_type": "code",
   "execution_count": null,
   "metadata": {},
   "outputs": [],
   "source": [
    "fg, ax = pl.subplots(1, 3)\n",
    "im = ax[0].imshow(z, cmap = pl.cm.cividis_r)\n",
    "cb = fg.colorbar(im, ax = ax[0], orientation = 'horizontal')\n",
    "cb.set_label('Elevation')\n",
    "\n",
    "im = ax[1].imshow(sca, cmap = pl.cm.viridis_r)\n",
    "cb = fg.colorbar(im, ax = ax[1], orientation = 'horizontal')\n",
    "cb.set_label('SCA (Freeman 1991 flow accumulation, MFD)')\n",
    "\n",
    "v = gaussian_hill_sca(n) - sca\n",
    "vmin = v.min()\n",
    "im = ax[2].imshow(v, cmap = pl.cm.seismic, vmin = vmin, vmax = -vmin)\n",
    "cb = fg.colorbar(im, ax = ax[2], orientation = 'horizontal')\n",
    "cb.set_label('Absolute difference (analytic - Freeman 1991 SCA)')\n",
    "pl.show()\n",
    "\n",
    "pl.title('Gaussian hill')\n",
    "pl.loglog(sca, np_slope(x, y, z), 'bo', mfc = 'none')\n",
    "pl.xlabel('Freeman 1991 SCA (MFD)')\n",
    "pl.ylabel('Finite difference slope')\n",
    "pl.show()"
   ]
  },
  {
   "cell_type": "markdown",
   "metadata": {},
   "source": [
    "# Repeat Analysis for Gaussian Channel Head"
   ]
  },
  {
   "cell_type": "code",
   "execution_count": null,
   "metadata": {},
   "outputs": [],
   "source": [
    "# Gaussian valley head\n",
    "n = 234\n",
    "x, y, z = gaussian_hill_elevation(n)\n",
    "d = y[1,0] - y[0,0]\n",
    "z = 1 - z # Invert the elevation raster\n",
    "\n",
    "#x, y, z = x[:,n//2:], y[:,n//2:], z[:,n//2:]\n",
    "\n",
    "sca = rd.FlowAccumulation(rd.rdarray(z, no_data = -9999), method = 'Freeman', exponent = 1.1)\n",
    "sca *= d\n",
    "\n",
    "fg, ax = pl.subplots(1, 2)\n",
    "im = ax[0].imshow(z, cmap = pl.cm.cividis_r)\n",
    "cb = fg.colorbar(im, ax = ax[0], orientation = 'horizontal')\n",
    "cb.set_label('Elevation')\n",
    "\n",
    "im = ax[1].imshow(sca, cmap = pl.cm.viridis_r, norm = LogNorm())\n",
    "cb = fg.colorbar(im, ax = ax[1], orientation = 'horizontal')\n",
    "cb.set_label('Freeman 1991 flow accumulation (MFD SCA)')\n",
    "pl.show()\n",
    "\n",
    "pl.title('Gaussian pit')\n",
    "pl.loglog(sca, np_slope(x, y, z), 'bo', mfc = 'none')\n",
    "pl.xlabel('Freeman 1991 SCA (MFD)')\n",
    "pl.ylabel('Finite difference slope')\n",
    "pl.show()\n"
   ]
  },
  {
   "cell_type": "code",
   "execution_count": null,
   "metadata": {},
   "outputs": [],
   "source": []
  }
 ],
 "metadata": {
  "kernelspec": {
   "display_name": "Python 3 (ipykernel)",
   "language": "python",
   "name": "python3"
  },
  "language_info": {
   "codemirror_mode": {
    "name": "ipython",
    "version": 3
   },
   "file_extension": ".py",
   "mimetype": "text/x-python",
   "name": "python",
   "nbconvert_exporter": "python",
   "pygments_lexer": "ipython3",
   "version": "3.12.8"
  }
 },
 "nbformat": 4,
 "nbformat_minor": 4
}
