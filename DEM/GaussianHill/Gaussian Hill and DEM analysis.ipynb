{
 "cells": [
  {
   "cell_type": "markdown",
   "metadata": {},
   "source": [
    "# Analysis with Digital Elevation Models (DEMs)\n",
    "\n",
    "This Notebook describes how to use Python to do some simple but instructive DEM analysis. We will start by generating a Gaussian hill. Because we can take the analytical derivative of the 2D Gaussian function, we can compare gridded slope estimates with analytical solution to better understand the true nature of slope (and aspect) calculations. In a second step, we will compare slope distributions derived from different DEM resolutions - again using the Gaussian Hill as an example that we sample at different resolutions.\n",
    "\n",
    "Consider the 2D Gaussian Function:\n",
    "$$G(x,y,\\sigma) = \\frac{1}{2\\pi \\sigma^2} e^{-\\frac{x^2 + y^2}{2 \\sigma^2}}$$\n",
    "\n",
    "For our purposes, we will use a constant $\\sigma=1$ and simplify\n",
    "$$G(x,y,) = e^{-x^2 - y^2}$$\n",
    "\n",
    "When taking the analytical solution, you can simplify this by assuming same x and y distances and stepsize and replace (x,y) with the distance $r$.\n",
    "\n",
    "\n",
    "## Python implenentation of an analytical Gaussian function and derivative\n",
    "Generating a gridded version of this Gaussian Function in Python with a fixed x and y frame (running from -2.5 to +2.5) and returning the corresponding $x, y, z$ values. Similarily, this can be done for the first and second derivative (slope and curvature). "
   ]
  },
  {
   "cell_type": "code",
   "execution_count": null,
   "metadata": {},
   "outputs": [],
   "source": [
    "import numpy as np\n",
    "from matplotlib import pyplot as plt\n",
    "plt.rcParams['figure.figsize'] = [14, 7]\n",
    "\n",
    "def gaussian_hill_elevation(n, b = 2.5):\n",
    "    x, y = np.meshgrid(np.linspace(-b,b,n),\n",
    "                       np.linspace(-b,b,n))\n",
    "    z = np.exp(-x*x-y*y)\n",
    "    return (x, y, z)\n",
    "\n",
    "def gaussian_hill_slope(n, b = 2.5):\n",
    "    x, y = np.meshgrid(np.linspace(-b,b,n),\n",
    "                       np.linspace(-b,b,n))\n",
    "    r = np.sqrt(x*x+y*y)\n",
    "    return 2*r*np.exp(-r*r)\n",
    "\n",
    "def gaussian_hill_curvature(n, b = 2.5):\n",
    "    x, y = np.meshgrid(np.linspace(-b,b,n),\n",
    "                       np.linspace(-b,b,n))\n",
    "    r = np.sqrt(x*x+y*y)\n",
    "    return (1 - 2*r*r)*2*np.exp(-r*r)"
   ]
  },
  {
   "cell_type": "markdown",
   "metadata": {},
   "source": [
    "These can be visualized with the Matplotlib in 2D and 3D. The 3D plot is interactive and can be rotated."
   ]
  },
  {
   "cell_type": "code",
   "execution_count": null,
   "metadata": {},
   "outputs": [],
   "source": [
    "#Generating 2D plot\n",
    "n = 111\n",
    "fg, ax = plt.subplots(1, 3)\n",
    "x, y, z = gaussian_hill_elevation(n)\n",
    "im = ax[0].imshow(z, cmap = plt.cm.cividis_r)\n",
    "cb = fg.colorbar(im, ax = ax[0], orientation = 'horizontal')\n",
    "cb.set_label('Elevation')\n",
    "im = ax[1].imshow(gaussian_hill_slope(n), cmap = plt.cm.magma_r)\n",
    "cb = fg.colorbar(im, ax = ax[1], orientation = 'horizontal')\n",
    "cb.set_label('Slope')\n",
    "v = gaussian_hill_curvature(n)\n",
    "vmax = v.max()\n",
    "im = ax[2].imshow(v, cmap = plt.cm.seismic, vmin = -vmax, vmax = vmax)\n",
    "cb = fg.colorbar(im, ax = ax[2], orientation = 'horizontal')\n",
    "cb.set_label('Curvature')\n",
    "plt.show()\n",
    "\n",
    "# Plot 3D view using elevation as color code\n",
    "from mpl_toolkits.mplot3d import Axes3D  \n",
    "fig = plt.figure()\n",
    "ax = fig.add_subplot(111, projection='3d')\n",
    "ax.scatter(x.ravel(), y.ravel(), z.ravel(), s=5, c=z.ravel(), cmap='viridis', marker='o')\n",
    "ax.set_xlabel('X')\n",
    "ax.set_ylabel('Y')\n",
    "ax.set_zlabel('Z')\n",
    "\n",
    "# Plot 3D view using slope as color code\n",
    "from mpl_toolkits.mplot3d import Axes3D  \n",
    "fig = plt.figure()\n",
    "ax = fig.add_subplot(111, projection='3d')\n",
    "ax.scatter(x.ravel(), y.ravel(), z.ravel(), s=5, c=gaussian_hill_slope(n).ravel(), cmap='magma_r', marker='o')\n",
    "ax.set_xlabel('X')\n",
    "ax.set_ylabel('Y')\n",
    "ax.set_zlabel('Z')"
   ]
  },
  {
   "cell_type": "markdown",
   "metadata": {},
   "source": [
    "## Python implementation of a numerical Gaussian function for the first and second derivative\n",
    "In the next step, we define a function, calculating the numerical derivative using numpy. This can be fed with the output grid from the Gaussian Hill and a first derivative can be calculated. Calling the function twice, will create the second derivative. We then plot the analytical and numerical solutions in map view."
   ]
  },
  {
   "cell_type": "code",
   "execution_count": null,
   "metadata": {},
   "outputs": [],
   "source": [
    "def np_slope(x, y, z):\n",
    "    d = y[1,0] - y[0,0]\n",
    "    dy, dx = np.gradient(z, d)\n",
    "    return np.sqrt(dx*dx+dy*dy)\n",
    "\n",
    "# Plot Analytical and numerical Slope analysis\n",
    "fg, ax = plt.subplots(1, 3)\n",
    "im = ax[0].imshow(gaussian_hill_slope(n), cmap = plt.cm.magma_r)\n",
    "cb = fg.colorbar(im, ax = ax[0], orientation = 'horizontal')\n",
    "cb.set_label('Slope (analytic)')\n",
    "\n",
    "im = ax[1].imshow(np_slope(x, y, z), cmap = plt.cm.magma_r)\n",
    "cb = fg.colorbar(im, ax = ax[1], orientation = 'horizontal')\n",
    "cb.set_label('Slope (numeric)')\n",
    "\n",
    "v = gaussian_hill_slope(n) - np_slope(x, y, z)\n",
    "vmax = v.max()\n",
    "im = ax[2].imshow(v, cmap = plt.cm.seismic, vmin = -vmax, vmax = vmax)\n",
    "cb = fg.colorbar(im, ax = ax[2], orientation = 'horizontal')\n",
    "cb.set_label('Absolute difference (analytic - numeric)')\n",
    "plt.show()"
   ]
  },
  {
   "cell_type": "markdown",
   "metadata": {},
   "source": [
    "Similarily, we can repeat this for the second derivative (curvature). We define a function that calculates the absolute curvature (irrespective of sign)."
   ]
  },
  {
   "cell_type": "code",
   "execution_count": null,
   "metadata": {},
   "outputs": [],
   "source": [
    "def np_abs_curvature(x, y, z):\n",
    "    d = y[1,0] - y[0,0]\n",
    "    dy, dx = np.gradient(z, d)\n",
    "    dz = np.sqrt(dx*dx+dy*dy)\n",
    "    dy, dx = np.gradient(dz, d)\n",
    "    return np.sqrt(dx*dx+dy*dy)\n",
    "\n",
    "# Plot Analytical and numerical Curvature analysis\n",
    "fg, ax = plt.subplots(1, 3)\n",
    "v = gaussian_hill_curvature(n)\n",
    "vmax = v.max()\n",
    "im = ax[0].imshow(v, cmap = plt.cm.seismic, vmin = -vmax, vmax = vmax)\n",
    "cb = fg.colorbar(im, ax = ax[0], orientation = 'horizontal')\n",
    "cb.set_label('Curvature (analytic)')\n",
    "\n",
    "v = np_abs_curvature(x, y, z)\n",
    "vmax = v.max()\n",
    "im = ax[1].imshow(v, cmap = plt.cm.seismic, vmin = -vmax, vmax = vmax)\n",
    "cb = fg.colorbar(im, ax = ax[1], orientation = 'horizontal')\n",
    "cb.set_label('Curvature (numeric)')\n",
    "\n",
    "v = np.abs(gaussian_hill_curvature(n)) - np_abs_curvature(x, y, z)\n",
    "vmax = np.percentile(v, 99)\n",
    "im = ax[2].imshow(v, cmap = plt.cm.seismic, vmin = -vmax, vmax = vmax)\n",
    "cb = fg.colorbar(im, ax = ax[2], orientation = 'horizontal')\n",
    "cb.set_label('Absolute difference (analytic - numeric)')\n",
    "plt.show()"
   ]
  },
  {
   "cell_type": "markdown",
   "metadata": {},
   "source": [
    "# Comparing Slope distributions from analytical and numerical solution\n",
    "Understanding slope distributions is a core step to understand landscape evolution and landscape regime (dynamics, steady state, transient). Using high-resolution DEMs, it is important to have a thorough understanding of slopes. In addition to the visual comparison shown above, we can analyse the slope distributions in a more quantitative fashion, to estimate uncertainties."
   ]
  },
  {
   "cell_type": "code",
   "execution_count": null,
   "metadata": {},
   "outputs": [],
   "source": [
    "# Slope Distributions\n",
    "n=11\n",
    "x, y, z = gaussian_hill_elevation(n)\n",
    "G_grad = gaussian_hill_slope(n)\n",
    "G_numerical_grad = np_slope(x, y, z)\n",
    "G_grad_p = np.percentile(G_grad.ravel(), [5,10,25,50,67,75,90,95])\n",
    "G_numerical_grad_p = np.percentile(G_numerical_grad.ravel(), [5,10,25,50,67,75,90,95])\n",
    "fg, ax = plt.subplots(1, 1, figsize=(7, 5))\n",
    "ax.scatter(G_grad_p, G_numerical_grad_p, s=50, marker = '^', facecolors='none', edgecolor='k')\n",
    "ax.plot(G_grad_p, G_grad_p, 'r-', alpha = 0.5, label = \"1:1 line\")\n",
    "ax.set_xlabel('Anaytical Slope', fontsize=14)\n",
    "ax.set_ylabel('Numeircal Slope', fontsize=14)\n",
    "ax.legend(fontsize=14)\n",
    "ax.set_title('Percentiles of analytical and numerical slope', fontsize=16)\n",
    "\n",
    "fg, ax = plt.subplots(1, 1, figsize=(7, 5))\n",
    "ax.hist(G_grad.ravel(), bins=10, color='b', histtype='step', label='Gaussian H. analytical gradient')\n",
    "ax.set_xlabel('Slope', fontsize=14)\n",
    "ax.set_ylabel('#', fontsize=14)\n",
    "ax.set_xlim((0, 1))\n",
    "ax.hist(G_numerical_grad.ravel(), bins=10, color='r', histtype='step', label='Gaussian H. numerical gradient')\n",
    "ax.legend()\n",
    "ax.set_title('Gaussian Hill with %d x %d elements'%(n,n), fontsize=16 )"
   ]
  },
  {
   "cell_type": "markdown",
   "metadata": {},
   "source": [
    "For a coarse DEM (few elements, in this case 11x11), the discrepancy between analytical solution and numerical solution is very large."
   ]
  },
  {
   "cell_type": "code",
   "execution_count": null,
   "metadata": {},
   "outputs": [],
   "source": [
    "n=111\n",
    "x, y, z = gaussian_hill_elevation(n)\n",
    "G_grad = gaussian_hill_slope(n)\n",
    "G_numerical_grad = np_slope(x, y, z)\n",
    "G_grad_p = np.percentile(G_grad.ravel(), [5,10,25,50,67,75,90,95])\n",
    "G_numerical_grad_p = np.percentile(G_numerical_grad.ravel(), [5,10,25,50,67,75,90,95])\n",
    "fg, ax = plt.subplots(1, 1, figsize=(7, 5))\n",
    "ax.scatter(G_grad_p, G_numerical_grad_p, s=50, marker = '^', facecolors='none', edgecolor='k')\n",
    "ax.plot(G_grad_p, G_grad_p, 'r-', alpha = 0.5, label = \"1:1 line\")\n",
    "ax.set_xlabel('Anaytical Slope', fontsize=14)\n",
    "ax.set_ylabel('Numeircal Slope', fontsize=14)\n",
    "ax.legend(fontsize=14)\n",
    "ax.set_title('Percentiles of analytical and numerical slope', fontsize=16)\n",
    "\n",
    "fg, ax = plt.subplots(1, 1, figsize=(7, 5))\n",
    "ax.hist(G_grad.ravel(), bins=100, color='b', histtype='step', label='Gaussian H. analytical gradient')\n",
    "ax.set_xlabel('Slope', fontsize=14)\n",
    "ax.set_ylabel('#', fontsize=14)\n",
    "ax.set_xlim((0, 1))\n",
    "ax.hist(G_numerical_grad.ravel(), bins=100, color='r', histtype='step', label='Gaussian H. numerical gradient')\n",
    "ax.legend()\n",
    "ax.set_title('Gaussian Hill with %d x %d elements'%(n,n), fontsize=16)"
   ]
  },
  {
   "cell_type": "markdown",
   "metadata": {},
   "source": [
    "For a 111x111 element array, the slope distributions match better. Note that a 111x111 array with a 1-m high Gaussian hill and length and width of 5 m, roughly corresponds to 5/111 = 0.45 m/pixel DEM - a very high resolution. 11x11 corresponds to 4.5m/pixel."
   ]
  },
  {
   "cell_type": "code",
   "execution_count": null,
   "metadata": {},
   "outputs": [],
   "source": [
    "n=1111\n",
    "x, y, z = gaussian_hill_elevation(n)\n",
    "G_grad = gaussian_hill_slope(n)\n",
    "G_numerical_grad = np_slope(x, y, z)\n",
    "G_grad_p = np.percentile(G_grad.ravel(), [5,10,25,50,67,75,90,95])\n",
    "G_numerical_grad_p = np.percentile(G_numerical_grad.ravel(), [5,10,25,50,67,75,90,95])\n",
    "fg, ax = plt.subplots(1, 1, figsize=(7, 5))\n",
    "ax.scatter(G_grad_p, G_numerical_grad_p, s=50, marker = '^', facecolors='none', edgecolor='k')\n",
    "ax.plot(G_grad_p, G_grad_p, 'r-', alpha = 0.5, label = \"1:1 line\")\n",
    "ax.set_xlabel('Anaytical Slope', fontsize=14)\n",
    "ax.set_ylabel('Numeircal Slope', fontsize=14)\n",
    "ax.legend(fontsize=12)\n",
    "ax.set_title('Percentiles of analytical and numerical slope', fontsize=16)\n",
    "\n",
    "fg, ax = plt.subplots(1, 1)\n",
    "ax.hist(G_grad.ravel(), bins=100, color='b', histtype='step', label='Gaussian H. analytical gradient')\n",
    "ax.set_xlabel('Slope', fontsize=14)\n",
    "ax.set_ylabel('#', fontsize=14)\n",
    "ax.set_xlim((0, 1))\n",
    "ax.hist(G_numerical_grad.ravel(), bins=100, color='r', histtype='step', label='Gaussian H. numerical gradient')\n",
    "ax.legend()\n",
    "ax.set_title('Gaussian Hill with %d x %d elements'%(n,n), fontsize=16)"
   ]
  },
  {
   "cell_type": "markdown",
   "metadata": {},
   "source": [
    "# Resampling of DEMs\n",
    "In the next step, we will first subsample a gridded Gaussian Hill (i.e., take only every other data point) and then perform resampling onto the original grid size to decipher <font color='red'><b>artefacts</b></font> of resampling methods. The example below only uses bilinear resampling, but you can modify this to higher-order resampling methods."
   ]
  },
  {
   "cell_type": "code",
   "execution_count": null,
   "metadata": {},
   "outputs": [],
   "source": [
    "n=111\n",
    "x, y, z = gaussian_hill_elevation(n)\n",
    "G_grad = gaussian_hill_slope(n)\n",
    "xs = x[::2, ::2]\n",
    "ys = y[::2, ::2]\n",
    "zs = z[::2, ::2]\n",
    "\n",
    "# Plot 3D view using elevation as color code and subsampled data\n",
    "from mpl_toolkits.mplot3d import Axes3D  \n",
    "fig = plt.figure()\n",
    "ax = fig.add_subplot(111, projection='3d')\n",
    "ax.scatter(x.ravel(), y.ravel(), z.ravel(), s=25, c=z.ravel(), cmap='viridis', marker='o')\n",
    "ax.scatter(xs.ravel(), ys.ravel(), zs.ravel(), s=15, c='k', marker='x')\n",
    "ax.set_xlabel('X')\n",
    "ax.set_ylabel('Y')\n",
    "ax.set_zlabel('Z')"
   ]
  },
  {
   "cell_type": "markdown",
   "metadata": {},
   "source": [
    "Now we have a subsampled array containing only every other datapoint in 'zs'. Using the corresponding x and y coordinates (using linspace to build these vectors), we can interpolate onto a function describing the Gaussian Hill"
   ]
  },
  {
   "cell_type": "code",
   "execution_count": null,
   "metadata": {},
   "outputs": [],
   "source": [
    "#Interpolate to surface with higher density\n",
    "#scipy.interpolate.interp2d(x, y, z, kind='linear', copy=True, bounds_error=False, fill_value=nan)[source]\n",
    "#from scipy.interpolate import interp2d. interp2d has been deprecated in the newer version of scipy. it still can be accessed through legacy versions of scipy\n",
    "from scipy.interpolate import RectBivariateSpline\n",
    "b=2.5\n",
    "x_elementsi = np.linspace(-b,b,n)[::2]\n",
    "y_elementsi = np.linspace(-b,b,n)[::2]\n",
    "#zsi = interp2d(x_elementsi, y_elementsi, zs, kind='linear') # deprecated\n",
    "zsi = RectBivariateSpline(x_elementsi, y_elementsi, zs, kx=1, ky=1) # for linear interpolation. kx and ky can be varied for higher degree interpolation\n",
    "\n",
    "x_elementsi = np.linspace(-b,b,n)\n",
    "y_elementsi = np.linspace(-b,b,n)\n",
    "zi = zsi(x_elementsi, y_elementsi)"
   ]
  },
  {
   "cell_type": "markdown",
   "metadata": {},
   "source": [
    "Now zi contains has the same grid size as the original (full resolution) dataset. This can be plotted and used for further analysis."
   ]
  },
  {
   "cell_type": "code",
   "execution_count": null,
   "metadata": {},
   "outputs": [],
   "source": [
    "fg, ax = plt.subplots(2, 2)\n",
    "vmin = 0\n",
    "vmax = 1\n",
    "im = ax[0,0].imshow(z, cmap = plt.cm.viridis, vmin = vmin, vmax = vmax)\n",
    "ax[0,0].set_title('Full-resolution Gaussian Hill', fontsize=16)\n",
    "cb = fg.colorbar(im, ax = ax[0,0], orientation = 'horizontal')\n",
    "cb.set_label('Elevation')\n",
    "\n",
    "im = ax[0,1].imshow(zs, cmap = plt.cm.viridis, vmin = vmin, vmax = vmax)\n",
    "ax[0,1].set_title('Subsampled Gaussian Hill', fontsize=16)\n",
    "cb = fg.colorbar(im, ax = ax[0,1], orientation = 'horizontal')\n",
    "cb.set_label('Elevation')\n",
    "\n",
    "im = ax[1,0].imshow(zi, cmap = plt.cm.viridis, vmin = vmin, vmax = vmax)\n",
    "ax[1,0].set_title('Resampled Gaussian Hill', fontsize=16)\n",
    "cb = fg.colorbar(im, ax = ax[1,0], orientation = 'horizontal')\n",
    "cb.set_label('Elevation')\n",
    "\n",
    "dh = z-zi\n",
    "im = ax[1,1].imshow(dh, cmap = plt.cm.Spectral, vmin = np.percentile(dh.ravel(),5), vmax = np.percentile(dh.ravel(),95))\n",
    "ax[1,1].set_title('dH of full-resolution and resampled Gaussian Hill', fontsize=16)\n",
    "cb = fg.colorbar(im, ax = ax[1,1], orientation = 'horizontal')\n",
    "cb.set_label('dH')\n"
   ]
  },
  {
   "cell_type": "markdown",
   "metadata": {},
   "source": [
    "**Question: Calculate the slope distribution of the resampled data (for 'linear'). Where and why do you observe the largest differences?**"
   ]
  },
  {
   "cell_type": "code",
   "execution_count": null,
   "metadata": {},
   "outputs": [],
   "source": []
  }
 ],
 "metadata": {
  "kernelspec": {
   "display_name": "Python 3 (ipykernel)",
   "language": "python",
   "name": "python3"
  },
  "language_info": {
   "codemirror_mode": {
    "name": "ipython",
    "version": 3
   },
   "file_extension": ".py",
   "mimetype": "text/x-python",
   "name": "python",
   "nbconvert_exporter": "python",
   "pygments_lexer": "ipython3",
   "version": "3.12.8"
  }
 },
 "nbformat": 4,
 "nbformat_minor": 4
}
