{
 "cells": [
  {
   "cell_type": "markdown",
   "metadata": {},
   "source": [
    "# Landscape Evolution Modeling - Gaussian Hill\n",
    "\n",
    "For a more detailed introduction and tutorials, please see the [landlab](https://github.com/landlab/landlab), [landlab tutorial](https://nbviewer.jupyter.org/github/landlab/tutorials/blob/master/component_tutorial/component_tutorial.ipynb), and [landlab documentation](https://landlab.readthedocs.io/en/master/) websites.\n",
    "\n",
    "## Setting up the Model Framework\n",
    "We will use a Gaussian Hill (as used before) and simulate erosion processes on the Gaussian Hill. We first need to generate a grid and import the Gaussian Hill into the format that can be understood by Landlab. With `RasterModelGrid` function we will generate an empty grid with $n*n$ pixels, a `dem_width` of $5*100$, and a node-spacing of `node_spacing = dem_width/n` - because our Gaussian Hill is centered on 0 and runs from -2.5 to 2.5, but we scale this by a factor of 10 to -25 to 25 (50 width).\n",
    "\n",
    "You could fill the model grid (mg) with zeros (`add_zeros`) via following command: \n",
    "```python\n",
    "z = mg.add_zeros('node', 'topographic__elevation')\n",
    "```\n",
    "\n",
    "We also create a Gaussian hill (via the function *gaussian_hill_elevation* and save this into the create `RasterModelGrid`. The Gaussian hill grid has n=111 elements (111x111) and scale the DEM grid to 100m height and 500m width."
   ]
  },
  {
   "cell_type": "code",
   "execution_count": null,
   "metadata": {},
   "outputs": [],
   "source": [
    "from landlab import RasterModelGrid\n",
    "import numpy as np\n",
    "from matplotlib import pyplot as plt\n",
    "from landlab.plot import imshow_grid\n",
    "plt.rcParams['figure.figsize'] = [14, 7]"
   ]
  },
  {
   "cell_type": "code",
   "execution_count": null,
   "metadata": {},
   "outputs": [],
   "source": [
    "#%% Setting up Gaussian Hill elevation data\n",
    "n=111\n",
    "dem_width = 5 * 100\n",
    "node_spacing = dem_width/n\n",
    "def gaussian_hill_elevation(n, b = 2.5):\n",
    "    x, y = np.meshgrid(np.linspace(-b,b,n),\n",
    "                       np.linspace(-b,b,n))\n",
    "    z = np.exp(-x*x-y*y)\n",
    "    return (x, y, z)\n",
    "\n",
    "x,y,z = gaussian_hill_elevation(n)\n",
    "z = z * 100\n",
    "\n",
    "mg = RasterModelGrid((n, n), node_spacing)\n",
    "gh_org = mg.add_field('node', 'topographic__elevation', z, \n",
    "                      units='meters', copy=True, clobber=False)"
   ]
  },
  {
   "cell_type": "markdown",
   "metadata": {},
   "source": [
    "mg is now a grid object with 111x111 nodes and 12321 (111x111) nodes and (111x(111-1)x2) links."
   ]
  },
  {
   "cell_type": "code",
   "execution_count": null,
   "metadata": {},
   "outputs": [],
   "source": [
    "mg.number_of_node_columns"
   ]
  },
  {
   "cell_type": "code",
   "execution_count": null,
   "metadata": {},
   "outputs": [],
   "source": [
    "mg.number_of_nodes"
   ]
  },
  {
   "cell_type": "code",
   "execution_count": null,
   "metadata": {},
   "outputs": [],
   "source": [
    "mg.number_of_links"
   ]
  },
  {
   "cell_type": "markdown",
   "metadata": {},
   "source": [
    "Let's plot the grid using the `imshow_grid` function from landlab."
   ]
  },
  {
   "cell_type": "code",
   "execution_count": null,
   "metadata": {},
   "outputs": [],
   "source": [
    "fg1 = plt.figure(1)\n",
    "imshow_grid(mg, 'topographic__elevation', plot_name='Gaissian Hill', \n",
    "            allow_colorbar=True)"
   ]
  },
  {
   "cell_type": "markdown",
   "metadata": {},
   "source": [
    "In addition, we can plot a profile across the Gaussian Hill:"
   ]
  },
  {
   "cell_type": "code",
   "execution_count": null,
   "metadata": {},
   "outputs": [],
   "source": [
    "fg2, ax = plt.subplots(1, 1)\n",
    "crosssection_center = mg.node_vector_to_raster(gh_org, flip_vertically=True)[:,int(np.round(n/2))].copy()\n",
    "crosssection_center_ycoords = mg.node_vector_to_raster(mg.node_y, flip_vertically=True)[:,int(np.round(n/2))].copy()\n",
    "ax.plot(crosssection_center_ycoords, crosssection_center, 'k', linewidth=3, label='Org. Gaussian Hill')\n",
    "ax.grid()\n",
    "ax.set_xlabel('Distance along profile [m]', fontsize=12)\n",
    "ax.set_ylabel('Height [m]', fontsize=12)\n",
    "ax.set_title('Profile through center of Gaussian Hill at t=0', fontsize=16)"
   ]
  },
  {
   "cell_type": "code",
   "execution_count": null,
   "metadata": {},
   "outputs": [],
   "source": [
    "help(mg.node_vector_to_raster)"
   ]
  },
  {
   "cell_type": "code",
   "execution_count": null,
   "metadata": {},
   "outputs": [],
   "source": [
    "fg2, ax = plt.subplots(1, 1)\n",
    "crosssection_center = mg.node_vector_to_raster(gh_org, flip_vertically=True)[:,int(np.round(n/2))].copy()\n",
    "crosssection_center_ycoords = mg.node_vector_to_raster(mg.node_y, flip_vertically=True)[:,int(np.round(n/2))].copy()\n",
    "ax.plot(crosssection_center_ycoords, crosssection_center, 'k', linewidth=3, label='Org. Gaussian Hill')\n",
    "ax.grid()\n",
    "ax.set_xlabel('Distance along profile [m]', fontsize=12)\n",
    "ax.set_ylabel('Height [m]', fontsize=12)\n",
    "ax.set_title('Profile through center of Gaussian Hill at t=0', fontsize=16)"
   ]
  },
  {
   "cell_type": "markdown",
   "metadata": {},
   "source": [
    "## Setting up the Diffusion Modeler\n",
    "Next, we initiate the boundary conditions for the diffusion modeler. We close all sides and assume a diffusion coefficient of $0.1~m^2/y$. We run one modeling step that integrates over 1000y."
   ]
  },
  {
   "cell_type": "code",
   "execution_count": null,
   "metadata": {},
   "outputs": [],
   "source": [
    "from landlab.components import LinearDiffuser\n",
    "mg.set_closed_boundaries_at_grid_edges(True, True, True, True)\n",
    "kappa_ld = 0.1 # m^2/y [L^2/T]\n",
    "ld = LinearDiffuser(mg, linear_diffusivity=kappa_ld)\n",
    "dt = 1000 # time step in y\n",
    "ld.run_one_step(dt)\n",
    "\n",
    "fg3 = plt.figure()\n",
    "imshow_grid(mg, 'topographic__elevation', plot_name='Gaussian Hill after 1 and 10 time steps with dt=%d and kappa_ld=%f'%(dt, kappa_ld), \n",
    "            allow_colorbar=True)"
   ]
  },
  {
   "cell_type": "markdown",
   "metadata": {},
   "source": [
    "We can save the resulting grid to a separate variable and generate a profile across the diffused Gaussian Hill:"
   ]
  },
  {
   "cell_type": "code",
   "execution_count": null,
   "metadata": {},
   "outputs": [],
   "source": [
    "gh_ld1 = mg.node_vector_to_raster(gh_org, flip_vertically=True)\n",
    "\n",
    "crosssection_center_d1 = mg.node_vector_to_raster(gh_ld1, flip_vertically=True)[:,int(np.round(n/2))].copy()\n",
    "crosssection_center_ycoords_d1 = mg.node_vector_to_raster(mg.node_y, flip_vertically=True)[:,int(np.round(n/2))].copy()"
   ]
  },
  {
   "cell_type": "markdown",
   "metadata": {},
   "source": [
    "This can be plotted together with the original profile:"
   ]
  },
  {
   "cell_type": "code",
   "execution_count": null,
   "metadata": {},
   "outputs": [],
   "source": [
    "fg2, ax = plt.subplots(1, 1)\n",
    "ax.plot(crosssection_center_ycoords, crosssection_center, 'k', linewidth=3, label='Org. Gaussian Hill')\n",
    "ax.plot(crosssection_center_ycoords_d1, crosssection_center_d1, 'b', linewidth=1, label='n=1, dt=%d x k=%02.2f'%(dt, kappa_ld))\n",
    "ax.grid() \n",
    "ax.set_xlabel('Distance along profile [m]', fontsize=12)\n",
    "ax.set_ylabel('Height [m]', fontsize=12)\n",
    "ax.set_title('Profile through center of Gaussian Hill at t=0', fontsize=16)"
   ]
  },
  {
   "cell_type": "markdown",
   "metadata": {},
   "source": [
    "We can use the same setup and run the model through a `for` loop - here for 10 times - and plot the resulting DEM."
   ]
  },
  {
   "cell_type": "code",
   "execution_count": null,
   "metadata": {},
   "outputs": [],
   "source": [
    "dt = 1000 # time step in yr\n",
    "for i in range(10):\n",
    "    ld.run_one_step(dt)\n",
    "    print('%d'%(i))\n",
    "\n",
    "fg5 = plt.figure()\n",
    "imshow_grid(mg, 'topographic__elevation', plot_name='Gaussian Hill after ten time step with dt=%d and kappa_ld=%f'%(dt, kappa_ld), \n",
    "            allow_colorbar=True)"
   ]
  },
  {
   "cell_type": "markdown",
   "metadata": {},
   "source": [
    "Again, the results after 10 model steps (each 1000 y - a total of 10ky model time) can be visualized through profiles:"
   ]
  },
  {
   "cell_type": "code",
   "execution_count": null,
   "metadata": {},
   "outputs": [],
   "source": [
    "fg2, ax = plt.subplots(1, 1)\n",
    "ax.plot(crosssection_center_ycoords, crosssection_center, 'k', linewidth=3, label='Org. Gaussian Hill')\n",
    "ax.plot(crosssection_center_ycoords_d1, crosssection_center_d1, 'b', linewidth=1, label='n=1, dt=%d x k=%02.2f'%(dt, kappa_ld))"
   ]
  },
  {
   "cell_type": "code",
   "execution_count": null,
   "metadata": {},
   "outputs": [],
   "source": [
    "gh_ld2 = mg.node_vector_to_raster(gh_org, flip_vertically=True)\n",
    "\n",
    "crosssection_center_d2 = mg.node_vector_to_raster(gh_ld2, flip_vertically=True)[:,int(np.round(n/2))].copy()\n",
    "crosssection_center_ycoords_d2 = mg.node_vector_to_raster(mg.node_y, flip_vertically=True)[:,int(np.round(n/2))].copy()\n",
    "\n",
    "fg2, ax = plt.subplots(1, 1)\n",
    "ax.plot(crosssection_center_ycoords, crosssection_center, 'k', linewidth=3, label='Org. Gaussian Hill')\n",
    "ax.plot(crosssection_center_ycoords_d1, crosssection_center_d1, 'b', linewidth=1, label='n=1, dt=%d x k=%02.2f'%(dt, kappa_ld))\n",
    "ax.plot(crosssection_center_ycoords_d2, crosssection_center_d2, 'r', label='n=10, dt=%d x k=%02.2f'%(dt, kappa_ld))\n",
    "ax.grid() \n",
    "ax.set_xlabel('Distance along profile [m]', fontsize=12)\n",
    "ax.set_ylabel('Height [m]', fontsize=12)\n",
    "ax.set_title('Profile through center of Gaussian Hill at t=0', fontsize=16)\n",
    "ax.legend()"
   ]
  },
  {
   "cell_type": "markdown",
   "metadata": {},
   "source": [
    "## Plotting each individual Model Results\n",
    "In the above example, only the final steps are plotted and shown as profile. We can extract the results from each modeling step and can better evaluate the dynamics of the terrain by plotting the results of each time step individually. We do this within the for loop. Let's set up our model again and plot every time step (2000 y steps for 20 times):"
   ]
  },
  {
   "cell_type": "code",
   "execution_count": null,
   "metadata": {},
   "outputs": [],
   "source": [
    "#Create initial plot of raw data\n",
    "fg2, ax = plt.subplots(1, 1)\n",
    "ax.plot(crosssection_center_ycoords, crosssection_center, 'k', linewidth=3, label='Org. Gaussian Hill')\n",
    "ax.grid()\n",
    "ax.set_xlabel('Distance along profile [m]', fontsize=12)\n",
    "ax.set_ylabel('Height [m]', fontsize=12)\n",
    "ax.set_title('Profiles at different timesteps through center of Gaussian Hill (Linear Diffusion)', fontsize=16)\n",
    "\n",
    "#re-initiate model domain to start from scratch\n",
    "x,y,z = gaussian_hill_elevation(n)\n",
    "z = z*100\n",
    "\n",
    "mg = RasterModelGrid((n, n), node_spacing)\n",
    "gh_org = mg.add_field('node', 'topographic__elevation', z, units='meters', copy=True, clobber=False)\n",
    "kappa_ld = 0.05 # m^2/y [L^2/T]\n",
    "ld = LinearDiffuser(mg, linear_diffusivity=kappa_ld)\n",
    "dt = 2000 # time step in y\n",
    "time_steps = 20 \n",
    "crosssection_center_dt = np.empty((time_steps, len(crosssection_center_d1)))\n",
    "crosssection_center_ycoords_dt = np.empty((time_steps, len(crosssection_center_ycoords_d1)))\n",
    "colors = pl.cm.viridis(np.linspace(0,1,time_steps))\n",
    "for i in range(time_steps):\n",
    "    ld.run_one_step(dt)\n",
    "    gh_ld = mg.node_vector_to_raster(gh_org, flip_vertically=True)\n",
    "    \n",
    "    crosssection_center_dt[i,:] = mg.node_vector_to_raster(gh_ld, flip_vertically=True)[:,int(np.round(n/2))]\n",
    "    crosssection_center_ycoords_dt[i,:] = mg.node_vector_to_raster(mg.node_y, flip_vertically=True)[:,int(np.round(n/2))]\n",
    "    ax.plot(crosssection_center_ycoords_dt[i,:], \n",
    "                 crosssection_center_dt[i,:], \n",
    "                 color=colors[i], label='dt=%d'%(dt))    \n",
    "    print('%d'%(i))"
   ]
  },
  {
   "cell_type": "markdown",
   "metadata": {},
   "source": [
    "## Gaussian Hill with Topographic Noise\n",
    "We will add some topographic noise to the Gaussian Hill to make a more realistic setup. The Gaussian Hill with noise is plotted below."
   ]
  },
  {
   "cell_type": "code",
   "execution_count": null,
   "metadata": {},
   "outputs": [],
   "source": [
    "x,y,z = gaussian_hill_elevation(n)\n",
    "z = z*100\n",
    "z = z + z * np.random.rand(n,n) * 0.1\n",
    "\n",
    "mg = RasterModelGrid((n, n), node_spacing)\n",
    "gh_noise = mg.add_field('node', 'topographic__elevation', z, units='meters', copy=True, clobber=False)\n",
    "kappa_ld = 0.05 # m^2/y [L^2/T]\n",
    "ld = LinearDiffuser(mg, linear_diffusivity=kappa_ld)\n",
    "dt = 1000 # time step in y\n",
    "time_steps = 20 \n",
    "\n",
    "fg6 = plt.figure()\n",
    "imshow_grid(mg, 'topographic__elevation', plot_name='Gaussian Hill with noise after time step with dt=%d and kappa_ld=%f'%(dt, kappa_ld), \n",
    "            allow_colorbar=True)"
   ]
  },
  {
   "cell_type": "markdown",
   "metadata": {},
   "source": [
    "Next, we plot profile for every modeling step (1000 y for 20 time steps)."
   ]
  },
  {
   "cell_type": "code",
   "execution_count": null,
   "metadata": {
    "scrolled": true
   },
   "outputs": [],
   "source": [
    "ghn_ld1 = mg.node_vector_to_raster(gh_noise, flip_vertically=True)\n",
    "\n",
    "crosssection_center_noise_1 = mg.node_vector_to_raster(ghn_ld1, flip_vertically=True)[:,int(np.round(n/2))]\n",
    "crosssection_center_ycoords_noise_1 = mg.node_vector_to_raster(mg.node_y, flip_vertically=True)[:,int(np.round(n/2))]\n",
    "\n",
    "fg2, ax = plt.subplots(1, 1)\n",
    "ax.plot(crosssection_center_ycoords, crosssection_center, 'k', linewidth=3, label='Org. Gaussian Hill')\n",
    "ax.grid()\n",
    "ax.set_xlabel('Distance along profile [m]', fontsize=12)\n",
    "ax.set_ylabel('Height [m]', fontsize=12)\n",
    "ax.set_title('Profiles at different timesteps through center of Gaussian Hill with noise (Linear Diffusion)', fontsize=16)\n",
    "ax.plot(crosssection_center_ycoords_noise_1, crosssection_center_noise_1, 'r', label='GH w/ noise')\n",
    "\n",
    "crosssection_center_dt = np.empty((time_steps, len(crosssection_center_d1)))\n",
    "crosssection_center_ycoords_dt = np.empty((time_steps, len(crosssection_center_ycoords_d1)))\n",
    "colors = plt.cm.viridis(np.linspace(0,1,time_steps))\n",
    "for i in range(time_steps):\n",
    "    ld.run_one_step(dt)\n",
    "    gh_ld = mg.node_vector_to_raster(ghn_ld1, flip_vertically=True)\n",
    "    \n",
    "    crosssection_center_dt[i,:] = mg.node_vector_to_raster(gh_ld, flip_vertically=True)[:,int(np.round(n/2))]\n",
    "    crosssection_center_ycoords_dt[i,:] = mg.node_vector_to_raster(mg.node_y, flip_vertically=True)[:,int(np.round(n/2))]\n",
    "    ax.plot(crosssection_center_ycoords_dt[i,:], crosssection_center_dt[i,:], color=colors[i], label='dt=%d'%(dt))    \n",
    "    print('%d'%(i))"
   ]
  },
  {
   "cell_type": "markdown",
   "metadata": {},
   "source": [
    "Note that the noisy Gaussian Hill surface has been rapidly smoothed.\n",
    "\n",
    "## Adding Fluvial Erosion to a Gaussian Hill through the FastScapeEroder\n",
    "A description of the [FastScapeEroder](https://landlab.readthedocs.io/en/latest/generated/api/landlab.components.stream_power.fastscape_stream_power.html) lists the options. Here, we setup the Gaussian Hill (without noise) and use a $K=1e-4$ and $m=0.5$ and $n=1$ for the stream-power erosion law. We perform the modeling in steps of 5000 y. A standard output of fluvial erosion modeling is the flow accumulation (drainage area) that is shown below. The output of single erosion step is shown in profile form."
   ]
  },
  {
   "cell_type": "code",
   "execution_count": null,
   "metadata": {},
   "outputs": [],
   "source": [
    "from landlab.components import FlowAccumulator, FastscapeEroder\n",
    "\n",
    "x,y,z = gaussian_hill_elevation(n)\n",
    "z = z*100\n",
    "\n",
    "mg = RasterModelGrid((n, n), node_spacing)\n",
    "gh_org = mg.add_field('node', 'topographic__elevation', z, units='meters', copy=True, clobber=False)\n",
    "\n",
    "fr = FlowAccumulator(mg, flow_director='D8')\n",
    "fse = FastscapeEroder(mg, K_sp = 1e-4, m_sp=0.5, n_sp=1.)\n",
    "fr.run_one_step()\n",
    "fse.run_one_step(dt=5000.)\n",
    "\n",
    "fg7 = plt.figure()\n",
    "imshow_grid(mg, 'topographic__elevation', plot_name='Gaussian Hill after one time step with K_sp=1e-5, m_sp=0.5, n_sp=1 (FastScape)', \n",
    "            allow_colorbar=True)\n",
    "\n",
    "pl.figure()\n",
    "pl.imshow(np.log10(np.reshape(fr.node_drainage_area, (n,n))))\n",
    "cb=pl.colorbar()\n",
    "cb.set_label('Log10 Flowaccumulation D8')\n",
    "\n",
    "fg2, ax = plt.subplots(1, 1)\n",
    "gh_fse = fse.grid.node_vector_to_raster(gh_org, flip_vertically=True)\n",
    "\n",
    "crosssection_center_fse_1 = mg.node_vector_to_raster(gh_fse, flip_vertically=True)[:,int(np.round(n/2))]\n",
    "crosssection_center_ycoords_fse_1 = mg.node_vector_to_raster(mg.node_y, flip_vertically=True)[:,int(np.round(n/2))]\n",
    "ax.plot(crosssection_center_ycoords, crosssection_center, 'k', linewidth=3, label='Org. Gaussian Hill')\n",
    "ax.grid()\n",
    "ax.set_xlabel('Distance along profile [m]', fontsize=12)\n",
    "ax.set_ylabel('Height [m]', fontsize=12)\n",
    "ax.set_title('Profiles at different timesteps through center of Gaussian Hill (FastScape)', fontsize=16)\n",
    "ax.plot(crosssection_center_ycoords_fse_1, crosssection_center_fse_1, 'r', label='noise')\n"
   ]
  },
  {
   "cell_type": "markdown",
   "metadata": {},
   "source": [
    "Next, we perform iterative steps and plot a profile across the eroding Gaussian Hill at every step."
   ]
  },
  {
   "cell_type": "code",
   "execution_count": null,
   "metadata": {},
   "outputs": [],
   "source": [
    "x,y,z = gaussian_hill_elevation(n)\n",
    "z = z*100\n",
    "\n",
    "mg = RasterModelGrid((n, n), node_spacing)\n",
    "gh_org = mg.add_field('node', 'topographic__elevation', z, units='meters', copy=True, clobber=False)\n",
    "\n",
    "fr = FlowAccumulator(mg, flow_director='D8')\n",
    "fse = FastscapeEroder(mg, K_sp = 1e-4, m_sp=0.5, n_sp=1.)\n",
    "\n",
    "fg2, ax2 = plt.subplots(1, 1)\n",
    "ax2.plot(crosssection_center_ycoords, crosssection_center, 'k', linewidth=3, label='Org. Gaussian Hill')\n",
    "ax2.grid()\n",
    "ax2.set_xlabel('Distance along profile [m]', fontsize=12)\n",
    "ax2.set_ylabel('Height [m]', fontsize=12)\n",
    "ax2.set_title('Profile through center of Gaussian Hill at t=0..n', fontsize=16)\n",
    "\n",
    "dt=5000.\n",
    "time_steps = 20\n",
    "crosssection_center_dt = np.empty((time_steps, len(crosssection_center_d1)))\n",
    "crosssection_center_ycoords_dt = np.empty((time_steps, len(crosssection_center_ycoords_d1)))\n",
    "colors = pl.cm.magma(np.linspace(0,1,time_steps))\n",
    "for i in range(time_steps):\n",
    "    fr.run_one_step()\n",
    "    fse.run_one_step(dt)\n",
    "    gh_fse = mg.node_vector_to_raster(gh_org, flip_vertically=True)\n",
    "    \n",
    "    crosssection_center_dt[i,:] = mg.node_vector_to_raster(gh_fse, flip_vertically=True)[:,int(np.round(n/2))]\n",
    "    crosssection_center_ycoords_dt[i,:] = mg.node_vector_to_raster(mg.node_y, flip_vertically=True)[:,int(np.round(n/2))]\n",
    "    ax2.plot(crosssection_center_ycoords_dt[i,:], crosssection_center_dt[i,:], color=colors[i], label='i=%d'%(i))    \n",
    "    print('%d'%(i))\n",
    "\n"
   ]
  },
  {
   "cell_type": "markdown",
   "metadata": {},
   "source": [
    "Note the different shape of the resulting landscape and compare it to the profile resoluts from the linear diffusion shown above. The resulting topography and drainage network is plotted below."
   ]
  },
  {
   "cell_type": "code",
   "execution_count": null,
   "metadata": {},
   "outputs": [],
   "source": [
    "fg7 = plt.figure()\n",
    "imshow_grid(mg, 'topographic__elevation', plot_name='Gaussian Hill after one time step with K_sp=1e-5, m_sp=0.5, n_sp=1 (FastScape)', \n",
    "            allow_colorbar=True)\n",
    "\n",
    "pl.figure()\n",
    "pl.imshow(np.log10(np.reshape(fr.node_drainage_area, (n,n))))\n",
    "cb=pl.colorbar()\n",
    "cb.set_label('Log10 Flowaccumulation D8')\n"
   ]
  },
  {
   "cell_type": "code",
   "execution_count": null,
   "metadata": {},
   "outputs": [],
   "source": []
  }
 ],
 "metadata": {
  "kernelspec": {
   "display_name": "Python 3 (ipykernel)",
   "language": "python",
   "name": "python3"
  },
  "language_info": {
   "codemirror_mode": {
    "name": "ipython",
    "version": 3
   },
   "file_extension": ".py",
   "mimetype": "text/x-python",
   "name": "python",
   "nbconvert_exporter": "python",
   "pygments_lexer": "ipython3",
   "version": "3.12.8"
  }
 },
 "nbformat": 4,
 "nbformat_minor": 4
}
