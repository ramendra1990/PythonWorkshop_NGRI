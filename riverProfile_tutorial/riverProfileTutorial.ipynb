{
 "cells": [
  {
   "cell_type": "markdown",
   "id": "c04178f9-7d77-4dc1-bd0f-0fc5bbf9f93a",
   "metadata": {},
   "source": [
    "# Tutorial on 1-D modelling of river long profiles\n",
    "### Detachment-limited river\n",
    "A river whose profile is given in the form of an excel file has a clear knickpoint around 12 km. In the absence of further structural, geologic, or tectonic information, we will try to reproduce this knickpoint under different scenarios assuming a detachment-limited model, where incision rate $E=KA^{m}S^{n}$ with $n$ and $m$ fixed respectively at 1 and 0.5."
   ]
  },
  {
   "cell_type": "code",
   "execution_count": null,
   "id": "39362872-265f-4388-b71a-312209859df5",
   "metadata": {},
   "outputs": [],
   "source": [
    "import numpy as np\n",
    "import pandas as pd\n",
    "import matplotlib.pyplot as plt \n",
    "lp = pd.read_excel('~/riverProfile_tutorial/River_profile_new.xlsx')\n",
    "plt.figure()\n",
    "plt.plot(lp[\"X (km)\"], lp[\"Z (m)\"], 'b-')\n",
    "plt.xlabel('Distance (km)')\n",
    "plt.ylabel('Elevation (m)')\n",
    "plt.xlim(min(lp[\"X (km)\"]), max(lp[\"X (km)\"]))\n",
    "plt.ylim(min(lp[\"Z (m)\"]), max(lp[\"Z (m)\"]))\n",
    "plt.title('River Profile')"
   ]
  },
  {
   "cell_type": "code",
   "execution_count": null,
   "id": "311e2b28-facc-4e9c-913a-51e9e7a83876",
   "metadata": {},
   "outputs": [],
   "source": [
    "# Plotting slope vs Area\n",
    "slopes = np.gradient(lp[\"Z (m)\"], lp[\"X (km)\"] * 1000) * (-1) # Since we are going down the river channel\n",
    "plt.figure()\n",
    "plt.scatter(lp[\"Area (km2)\"], slopes, marker = '^', facecolor = \"None\", edgecolor = 'b')\n",
    "plt.xscale('log')\n",
    "plt.yscale('log')\n",
    "plt.xlabel('Area (km2)')\n",
    "plt.ylabel('Slope (m/m)')\n",
    "plt.title('Slope-Area')"
   ]
  },
  {
   "cell_type": "markdown",
   "id": "1e40c273-10d2-457e-83eb-b8c7dcdc9d7b",
   "metadata": {},
   "source": [
    "Since the river system is a detachment-limited system, the governing equation can be written as follows:\n",
    "$$\n",
    "\\frac{\\partial z}{\\partial t}=U-K{A}^{m}{S}^{n}\n",
    "\\tag{1}\n",
    "$$\n",
    "At steady state Equation (1) can be rearranged and a relation between slope and area can be established, which takes the following form:\n",
    "$$\n",
    "S=\\left(\\frac{U}{K} \\right)^\\frac{1}{n}A^{-\\frac{m}{n}}\n",
    "\\tag{2}\n",
    "$$\n",
    "If we take the natural log of both sides of Equation (2), we have an equation of a straight line between $\\log{S}$ and $\\log{A}$. The intercept of that line will be $\\frac{1}{n}\\log\\left(\\frac{U}{K} \\right)$.</br></br>\n",
    "A clear knickpoint is present along the river profile, which divides the river profile into two stretches. The first exercise is to have an intuitive estimate of the uplift rate for the two stretches of the river profile. This indicates possible transient condition of the river profile. The evolution of the river profile can be affected by different uplift rates (can vary in space or in time) and variable lithology. </br></br>"
   ]
  },
  {
   "cell_type": "markdown",
   "id": "8f194a92-a299-464f-9708-928ad23550ee",
   "metadata": {},
   "source": [
    "### 1. Steady-state uplift rate with spatial variations of uplift rates, and uniform erodibility coefficient K.\n",
    "In this scenario, we will assume a constant erodibility factor $\\left( K \\right)$ as $2.10^{-5}\\;yr^{-1}$. First, we will separate both reaches of the river by indexing the `lp` data series. To get an estimate of the uplift, we need the value of the intercept (where $\\log S$ is zero). Since we know the value of $K$ in Equation (1), we can calculate an approximate uplift rate for both the stretches from the y-intercept of the slope-area plot. We have to carry out the exercise separately for the reaches separated by the knickpoint."
   ]
  },
  {
   "cell_type": "code",
   "execution_count": null,
   "id": "1e7d78ba-7b50-4ec5-b0cb-4c0ddaf3e8d5",
   "metadata": {},
   "outputs": [],
   "source": [
    "# the approximate uplift rate in the two main segments of the river\n",
    "# Divide the river profile into 2 reaches (i.e. upto 12 km, and 12-20 km)\n",
    "p1 = 12\n",
    "lp_1 = lp[lp[\"X (km)\"] < p1]\n",
    "lp_2 = lp[lp[\"X (km)\"] >= p1]\n",
    "# Slope vs Area plot for the two reaches\n",
    "S1 = slopes[lp[\"X (km)\"] < p1]\n",
    "A1 = lp[lp[\"X (km)\"] < p1][\"Area (km2)\"]\n",
    "S2 = slopes[lp[\"X (km)\"] >= p1]\n",
    "A2 = lp[lp[\"X (km)\"] >= p1][\"Area (km2)\"]\n",
    "# PLot the river profile and the slope-area plot in a single plot. \n",
    "# Slope-Area plot will plot log(slope) vs log(Area) for the two stretches.\n",
    "plt.figure()\n",
    "plt.subplot(2, 2, 1)\n",
    "plt.plot(lp_1[\"X (km)\"], lp_1[\"Z (m)\"], 'k-')\n",
    "plt.subplot(2, 2, 2)\n",
    "plt.plot(lp_2[\"X (km)\"], lp_2[\"Z (m)\"], 'k-')\n",
    "plt.subplot(2, 2, 3)\n",
    "plt.scatter(np.log(A1), np.log(S1), marker = '^', facecolor = \"None\", edgecolor = 'k')\n",
    "plt.subplot(2, 2, 4)\n",
    "plt.scatter(np.log(A2), np.log(S2), marker = '^', facecolor = \"None\", edgecolor = 'k')"
   ]
  },
  {
   "cell_type": "markdown",
   "id": "d8e50c0a-e89d-40b2-a01d-37e64258693d",
   "metadata": {},
   "source": [
    "From the plot above, observe both the slope-area plot on the log-log scale. These approximate estimates of the uplift rates will give us a clue about the range of uplift rates that the river profile has undergone. Next, we will try to get the time-dependent solution of the river profile by solving Equation (1) using the  <b>Finite Difference</b> technique."
   ]
  },
  {
   "cell_type": "code",
   "execution_count": null,
   "id": "d0b05917-80da-4f47-99a2-d7ec6899405c",
   "metadata": {},
   "outputs": [],
   "source": [
    "# River profile\n",
    "Xriv = lp[\"X (km)\"] * 1000   # distance in m\n",
    "Zriv = lp[\"Z (m)\"]\n",
    "Area = lp[\"Area (km2)\"] * 1e6   # area in m2\n",
    "plt.figure()\n",
    "plt.plot(Xriv / 1000, Zriv, 'b', linewidth=2)\n",
    "plt.xlabel('distance (km)')\n",
    "plt.ylabel('elevation (m)')"
   ]
  },
  {
   "cell_type": "markdown",
   "id": "20f97db6-7706-4cca-a1c5-c3c2e1a1defa",
   "metadata": {},
   "source": [
    "#### Parameter definition"
   ]
  },
  {
   "cell_type": "code",
   "execution_count": null,
   "id": "f379fa6b-765f-47d8-b4d4-75ff2293c4cc",
   "metadata": {},
   "outputs": [],
   "source": [
    "# ------ Incision Parameters  ----------\n",
    "m = 0.5 #incision law area exponent \n",
    "n = 1 #incision law slope exponent \n",
    "\n",
    "ka = 6.69 # area length coefficient (Hack 1957 _ L en m et A en m2)\n",
    "h = 1.67 # réciproque de l'exposant de Hack (valeur observée, Hack 1957)\n",
    "theta = h*m/n # index of concavity between z and x (not between z and A)\n",
    "\n",
    "# ------ River spatial characteristics ------\n",
    "    \n",
    "L = 20000 # river length (m) - CAN BE MODIFIED \n",
    "zi = 0    # z(L) = altitude of the base level (m) - CAN BE MODIFIED \n",
    "Asource=0.5e6   # area of the  sources in m2\n",
    "xmin=(Asource/ka)**(1/h)  # distance between the crest and the source = limit of application of the fluvial incision law\n",
    "dx = 50 # spatial step (m) - CAN BE MODIFIED>. The evolution equation will be numerically solved on this spatial scale\n",
    "\n",
    "x = np.arange(0,L,dx)   # downstream distance vector (m). Discretization of spatial domain\n",
    "nx = len(x)\n",
    "n0 = np.where(x<xmin)[0][-1]  # index of the start of the fluvial drain. This is the last position of the spatial domain where we have channels.\n",
    "\n",
    "# ------ Time characteristics ------\n",
    "T_end = int(4e5) # duration of the run in year 300 kyr  \n",
    "dt = 100    # time step in year\n",
    "time = np.arange(0,T_end,dt)  # time vector. Discretization of the time domain\n",
    "nt = len(time)\n",
    "\n",
    "# ------- Uplift, erodibility coefficient and their variations ------ \n",
    "#  spatial variations in local uplift rate or erodibility\n",
    "Xt = [1, 12000]\n",
    "ntX = len(Xt)  # number of spatial transition\n",
    "Up = [2, 5] # uplift rate in mm/yr _ Must be the same length as Xt. Uplift rate in the 2 separate domain\n",
    "Up = [u / 1000 for u in Up]    # uplift rate in m/yr\n",
    "K = [2E-5, 2E-5] # erosion coefficient related to rock erodibility _ Must be same length as Xt\n",
    "\n",
    "#  temporal variations in regional uplift rate. Please do this experiment.\n",
    "Timing = [0, 1.7E+5]  # timing in yr of the change in regional uplift rate \n",
    "ntT = len(Timing)  # number of temporal transition\n",
    "Ufac = [1, 1]  # uplift temporal change factor _ Must be same length as Xt\n",
    "\n",
    "# index linked to the spatial variations\n",
    "nxt1 = np.where(x<Xt[1])[0][-1]\n",
    "\n",
    "UpV = np.zeros((nx,))   # spatial vector of the local uplift value\n",
    "UpV[0 : nxt1] = Up[0]  \n",
    "UpV[nxt1 : nx] = Up[1]\n",
    "KV = np.zeros((nx,))   # spatial vector of the local uplift value\n",
    "KV[0 : nxt1] = K[0]  \n",
    "KV[nxt1 : nx] = K[1]\n",
    "\n",
    "# For temporal variability in the model params\n",
    "it1 = np.where(time < Timing[1])[0][-1]\n",
    "UfacV = np.zeros((nt,))   # spatial vector of the local uplift value\n",
    "# Assign temporal uplift change factor to each time window\n",
    "UfacV[0 : it1] = Ufac[0]  \n",
    "UfacV[it1 : nt] = Ufac[1]"
   ]
  },
  {
   "cell_type": "markdown",
   "id": "06a47ea1-ec39-4200-95b3-eb88a5bb05cc",
   "metadata": {},
   "source": [
    "#### Initial profile = arbitrary"
   ]
  },
  {
   "cell_type": "code",
   "execution_count": null,
   "id": "4ae2edff-2a8d-4ae2-be28-46997086a496",
   "metadata": {},
   "outputs": [],
   "source": [
    "# Initial state parameter\n",
    "Ui = 0.001 # rock uplift initial (m/an) \n",
    "Ki = 0.00002\n",
    "z0 = np.zeros((nx,))\n",
    "# Steady state solution (z(x) when dz/dt = 0) with the initial parameters\n",
    "z0[n0 : nx] = zi + ((Ui / Ki / (ka ** m)) ** (1 / n)) * ((L ** (1 - theta) - x[n0 : nx] ** (1 - theta)) / (1 - theta))  \n",
    "# initial profile \n",
    "plt.plot(x[n0 : nx] / 1000, z0[n0 : nx], 'limegreen', linewidth = 2)\n",
    "# Observed (current) profile\n",
    "plt.plot(Xriv / 1000, Zriv, 'b', linewidth=2)\n",
    "plt.xlim(0, 20)\n",
    "plt.ylim(0,)\n",
    "plt.xlabel('distance (km)')\n",
    "plt.ylabel('elevation (m)')"
   ]
  },
  {
   "cell_type": "markdown",
   "id": "f349f9c5-98ab-495e-bc65-f52cf39a7480",
   "metadata": {},
   "source": [
    "#### Transient profiles"
   ]
  },
  {
   "cell_type": "code",
   "execution_count": null,
   "id": "8b44b84a-ca40-471d-9ff5-bfa97d3fec0f",
   "metadata": {},
   "outputs": [],
   "source": [
    "# For animation purposes\n",
    "from IPython.display import display, clear_output\n",
    "nbr = 10 # number of transient profile for display _ CAN BE MODIFIED \n",
    "\n",
    "# area interpolation to define the drainage area in any point of the\n",
    "# numeric river\n",
    "AreaX = np.interp(x, Xriv, Area)\n",
    "AreaX = np.maximum(AreaX, Asource/2)  # to avoid to have negative area\n",
    "\n",
    "## ----------  finite difference solution\n",
    "iC = round(nt / nbr)\n",
    "zz_num = z0.copy() # creation of the vector containing the elevation of the transient profile\n",
    "fig = plt.figure()\n",
    "ax = fig.add_subplot(1, 1, 1) \n",
    "ax.plot(Xriv / 1000, Zriv, 'b', linewidth=2, alpha = 0.5)\n",
    "ax.set_xlabel('distance (km)')\n",
    "ax.set_ylabel('elevation (m)')\n",
    "ax.set_ylim(0,)\n",
    "ax.plot(x[n0 : nx] / 1000, z0[n0 : nx], 'limegreen', linewidth = 2, alpha = 0.5)\n",
    "\n",
    "for i in range(nt):    # time iteration\n",
    "    S = np.maximum(0, -np.diff(zz_num)) / dx   # gradient of the river ; in x=L (index nx) S=0 permanently\n",
    "                                   # the max value prevents to get negative slopes\n",
    "    zz_num[0 : nx-1] = zz_num[0 : nx-1] + dt * ((UfacV[i] * UpV[0 : nx-1]) - (KV[0 : nx-1]*(AreaX[0 : nx-1]**m)*(S**n)))\n",
    "    \n",
    "    # --------\n",
    "    if (i % iC == 0):\n",
    "        ax.plot(x[n0:nx] / 1000, zz_num[n0 : nx], color = 'gray')  # display of the intermediate profiles\n",
    "        display(fig)\n",
    "        clear_output(wait = True)\n",
    "        plt.pause(1.0)\n",
    "        #plt.pause(0.1) # After every plot the program pauses for 0.1 sec\n",
    "    \n",
    "#plt.plot(x[n0:nx] / 1000, zz_num[n0 : nx], color = 'gray')"
   ]
  },
  {
   "cell_type": "markdown",
   "id": "9be2ff17-0254-4e92-aa63-9986eea85cba",
   "metadata": {},
   "source": [
    "#### Setting up a simple inversion model by error function (MSE) minimization\n",
    "In this exercise (for scenario 1), we will try to find the best estimate for the two uplift rates (U1 and U2). To do that, we will use a simple optimization routine, where we first sample the model parameter space ($U1-U2$ space) within specific ranges (1 mm/yr to 7 mm/yr). For each combination of the model parameters we run our forward model like in previous step for 300 kyr and calculate an error value defined as follows:\n",
    "$$\n",
    "e=\\frac{1}{N}\\sum\\left(z_{model}-z_{obs}\\right)^{2}\n",
    "\\tag{3}\n",
    "$$\n",
    "$N$ is the length of the data (elevation of the river profile) vector. In the end we will find the index for the mimimum value of the error matrix to get the best estimate of the uplift rates U1 and U2."
   ]
  },
  {
   "cell_type": "code",
   "execution_count": null,
   "id": "5b7dacb8-cd7f-4ffd-bb28-ecb4ff622850",
   "metadata": {},
   "outputs": [],
   "source": [
    "# Define an error function. Only includes data error. Other error forms can be included.\n",
    "def error_function(z_obs, z_model):\n",
    "    e = (1 / len(z_obs)) * sum((z_model - z_obs) ** 2)\n",
    "    return e"
   ]
  },
  {
   "cell_type": "code",
   "execution_count": null,
   "id": "804dd6aa-41a9-46e8-8d42-c46a374e45dc",
   "metadata": {},
   "outputs": [],
   "source": [
    "# Define model parameter space\n",
    "Up1 = np.arange(1.0, 7.3, 0.3, dtype='float') # Sampling interval (0.1) can be increased to have a lesser sample size of the model parameters.\n",
    "# Decreasing the sampling interval will increase the fidelity of your inversion routine. But it will take more number iterations and hence more time.\n",
    "Up2 = np.arange(1.0, 7.3, 0.3, dtype='float')\n",
    "# Initialize an error matrix\n",
    "e_matrix = np.zeros((len(Up1), len(Up2)))\n",
    "# Run the forward model for every possible scenario (a brute-force inversion approach)\n",
    "for (r_idx, u1) in enumerate(Up1):\n",
    "    for (c_idx, u2) in enumerate(Up2):\n",
    "        Up = [u1, u2]\n",
    "        Up = [u / 1000 for u in Up]    # uplift rate in m/yr\n",
    "        K = [2E-5, 2E-5]\n",
    "        Xt = [1, 12000]\n",
    "        ntX = len(Xt)  # number of spatial transition\n",
    "        UpV = np.zeros((nx,))   # spatial vector of the local uplift value\n",
    "        UpV[0 : nxt1] = Up[0]  \n",
    "        # UpV[nxt1 : nxt2]=Up[1]\n",
    "        UpV[nxt1 : nx]=Up[1]\n",
    "        \n",
    "        zz_num = z0.copy()\n",
    "        for i in range(nt):    # time iteration\n",
    "            S = np.maximum(0, -np.diff(zz_num)) / dx\n",
    "            zz_num[0 : nx-1] = zz_num[0 : nx-1] + dt * ((UfacV[i] * UpV[0 : nx-1]) - (KV[0 : nx-1]*(AreaX[0 : nx-1]**m)*(S**n)))\n",
    "        z_mod = np.interp(Xriv, x, zz_num)\n",
    "        e = error_function(Zriv, z_mod)\n",
    "        e_matrix[r_idx, c_idx] = e"
   ]
  },
  {
   "cell_type": "code",
   "execution_count": null,
   "id": "25163187-0075-42bf-9a52-c6c61737d7bc",
   "metadata": {},
   "outputs": [],
   "source": [
    "# Visualization of the error matrix\n",
    "plt.figure()\n",
    "plt.imshow(np.log(e_matrix), extent=[min(Up2), max(Up2), min(Up1), max(Up1)], cmap= \"seismic\")\n",
    "plt.colorbar(extend='both', \n",
    "             orientation='vertical', \n",
    "             aspect = 30, shrink=1.0, pad=0.06)\n",
    "plt.xlabel('U2 (mm/yr)')\n",
    "plt.ylabel('U1 (mm/yr)')\n",
    "plt.tight_layout()"
   ]
  },
  {
   "cell_type": "code",
   "execution_count": null,
   "id": "f2b06451-ac48-4694-9a41-1378fa2e9008",
   "metadata": {},
   "outputs": [],
   "source": [
    "# Estimation of the unknown model parameters. Since we only have two model params here, we can easily visualize it. \n",
    "# As the number of model params increase, we have to find the index instead and find the model parameter estimates.\n",
    "idx_min_err = np.where(e_matrix == np.min(e_matrix))\n",
    "U1 = Up1[idx_min_err[0]][0]\n",
    "U2 = Up2[idx_min_err[1]][0]\n",
    "print(f'U1 is {U1:.2f} mm/yr, U2 is {U2:.2f} mm/yr')"
   ]
  },
  {
   "cell_type": "markdown",
   "id": "2f23be14-f20f-4445-8c6b-f7539119a4e2",
   "metadata": {},
   "source": [
    "### 2. Steady-state uplift rate with spatial variations of erodibility coefficient K, and uniform uplift rates.\n",
    "In this scenario, impose a uniform uplift rate, try 2 values for K, run the program. Modify the 2 values until obtaining a final profile that fits the observed river profile. Do you observe the same phenomenon than during the runs of scenario 1? Why?"
   ]
  },
  {
   "cell_type": "markdown",
   "id": "56a2cb6e-7d12-475c-9c06-c6e4b59c6c3f",
   "metadata": {},
   "source": [
    "### 3. Unsteady uplift rate (temporal variation) with spatially uniform erodibility coefficient K and uplift rates.\n",
    "The unsteady scenario propose to explore a pulse of increased uplift between Timing[1] and nt (total duration of the forward model). The increase of uplift can be defined by the U_factor (Ufac). Impose a uniform uplift rate and coefficient K, and play with the uplift increase factor and the Timing, in order again to match, if possible, the observed river profile. In order to avoid random scenario, it is possible to roughly compute the wave speed of the receding knickpoint $\\left(KA^mS^{n-1}\\right)$, and according to the distance between the base level (x=L) and the knickpoint to estimate the Timing of the uplift perturbation."
   ]
  },
  {
   "cell_type": "code",
   "execution_count": null,
   "id": "719f1029-e93e-4603-aacb-921ebec7c582",
   "metadata": {},
   "outputs": [],
   "source": []
  }
 ],
 "metadata": {
  "kernelspec": {
   "display_name": "Python 3 (ipykernel)",
   "language": "python",
   "name": "python3"
  },
  "language_info": {
   "codemirror_mode": {
    "name": "ipython",
    "version": 3
   },
   "file_extension": ".py",
   "mimetype": "text/x-python",
   "name": "python",
   "nbconvert_exporter": "python",
   "pygments_lexer": "ipython3",
   "version": "3.11.7"
  }
 },
 "nbformat": 4,
 "nbformat_minor": 5
}
